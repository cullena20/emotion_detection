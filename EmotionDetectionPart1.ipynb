{
  "nbformat": 4,
  "nbformat_minor": 0,
  "metadata": {
    "colab": {
      "name": "EmotionDetectionPart1.ipynb",
      "provenance": [],
      "collapsed_sections": [],
      "authorship_tag": "ABX9TyM+Cd5jz+KFAc6ZeWa9ULxS",
      "include_colab_link": true
    },
    "kernelspec": {
      "name": "python3",
      "display_name": "Python 3"
    },
    "accelerator": "GPU"
  },
  "cells": [
    {
      "cell_type": "markdown",
      "metadata": {
        "id": "view-in-github",
        "colab_type": "text"
      },
      "source": [
        "<a href=\"https://colab.research.google.com/github/cullena20/emotion_detection/blob/main/EmotionDetectionPart1.ipynb\" target=\"_parent\"><img src=\"https://colab.research.google.com/assets/colab-badge.svg\" alt=\"Open In Colab\"/></a>"
      ]
    },
    {
      "cell_type": "markdown",
      "metadata": {
        "id": "k51QOgE2oLXl"
      },
      "source": [
        "# Emotion Detection"
      ]
    },
    {
      "cell_type": "markdown",
      "metadata": {
        "id": "kwSOjnIu0JTE"
      },
      "source": [
        "## Loading the data"
      ]
    },
    {
      "cell_type": "markdown",
      "metadata": {
        "id": "7t6C8p6C0Lj_"
      },
      "source": [
        "I'm loading the data here from the Kaggle competition that can be found at \n",
        "https://www.kaggle.com/c/challenges-in-representation-learning-facial-expression-recognition-challenge\n",
        "\n",
        "I'm getting the data ready in a way that I don't fully understand from \n",
        " https://www.kaggle.com/general/74235 and https://colab.research.google.com/drive/19b2aCs2mhaukM4lsvpLK4dIgaHJGRzgn#scrollTo=I4CsZ8Ihudzf."
      ]
    },
    {
      "cell_type": "markdown",
      "metadata": {
        "id": "kT1a8WeIyMcc"
      },
      "source": [
        "This is a link with some usefl stuff about Colab's file system.\n",
        "\n",
        "https://neptune.ai/blog/google-colab-dealing-with-files."
      ]
    },
    {
      "cell_type": "markdown",
      "metadata": {
        "id": "Qg-KAqGeeAX6"
      },
      "source": [
        "Drop kaggle.json here (from the kaggle API)"
      ]
    },
    {
      "cell_type": "code",
      "metadata": {
        "colab": {
          "resources": {
            "http://localhost:8080/nbextensions/google.colab/files.js": {
              "data": "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",
              "ok": true,
              "headers": [
                [
                  "content-type",
                  "application/javascript"
                ]
              ],
              "status": 200,
              "status_text": ""
            }
          },
          "base_uri": "https://localhost:8080/",
          "height": 463
        },
        "id": "yJJDHDLnyUgX",
        "outputId": "63c60439-1253-4d45-a06a-0404f3bd2717"
      },
      "source": [
        "from google.colab import files\n",
        "files.upload()\n",
        "! mkdir ~/.kaggle\n",
        "! cp kaggle.json ~/.kaggle/\n",
        "! chmod 600 ~/.kaggle/kaggle.json\n",
        "! kaggle datasets list"
      ],
      "execution_count": 1,
      "outputs": [
        {
          "output_type": "display_data",
          "data": {
            "text/html": [
              "\n",
              "     <input type=\"file\" id=\"files-50430a85-290d-4b48-95ea-7c054c3798aa\" name=\"files[]\" multiple disabled\n",
              "        style=\"border:none\" />\n",
              "     <output id=\"result-50430a85-290d-4b48-95ea-7c054c3798aa\">\n",
              "      Upload widget is only available when the cell has been executed in the\n",
              "      current browser session. Please rerun this cell to enable.\n",
              "      </output>\n",
              "      <script src=\"/nbextensions/google.colab/files.js\"></script> "
            ],
            "text/plain": [
              "<IPython.core.display.HTML object>"
            ]
          },
          "metadata": {
            "tags": []
          }
        },
        {
          "output_type": "stream",
          "text": [
            "Saving kaggle.json to kaggle.json\n",
            "Warning: Looks like you're using an outdated API Version, please consider updating (server 1.5.10 / client 1.5.4)\n",
            "ref                                                    title                                                size  lastUpdated          downloadCount  \n",
            "-----------------------------------------------------  --------------------------------------------------  -----  -------------------  -------------  \n",
            "gpreda/covid-world-vaccination-progress                COVID-19 World Vaccination Progress                  37KB  2021-01-29 06:59:19           3811  \n",
            "jorgesandoval/wind-power-generation                    Wind Power Generation Data                          245KB  2021-01-07 18:45:08            349  \n",
            "google/android-smartphones-high-accuracy-datasets      Android smartphones high accuracy GNSS datasets       1GB  2020-12-23 01:51:11            715  \n",
            "ayushggarg/all-trumps-twitter-insults-20152021         All Trump's Twitter insults (2015-2021)             581KB  2021-01-20 16:51:05            735  \n",
            "cdminix/us-drought-meteorological-data                 US Drought & Meteorological Data                    748MB  2021-01-20 21:48:02            123  \n",
            "sevgisarac/temperature-change                          Temperature change                                  778KB  2020-12-24 20:06:36            811  \n",
            "fedesoriano/cern-electron-collision-data               CERN electron collision data                          6MB  2020-12-25 19:04:17            144  \n",
            "tapakah68/segmentation-full-body-mads-dataset          Segmentation Full Body MADS Dataset                 474MB  2021-01-20 18:43:02             54  \n",
            "utkarshxy/who-worldhealth-statistics-2020-complete     World Health Statistics 2020|Complete|Geo-Analysis    1MB  2021-01-25 06:11:19           6567  \n",
            "sakshigoyal7/credit-card-customers                     Credit Card customers                               379KB  2020-11-19 07:38:44          21104  \n",
            "gpreda/pfizer-vaccine-tweets                           Pfizer Vaccine Tweets                               787KB  2021-01-29 06:58:34           3646  \n",
            "yamaerenay/spotify-dataset-19212020-160k-tracks        Spotify Dataset 1921-2020, 160k+ Tracks              17MB  2021-01-24 23:46:53          18225  \n",
            "arashnic/covid19-case-surveillance-public-use-dataset  Covid-19 Case Surveillance Public Use Dataset        46MB  2020-12-21 02:24:21           3081  \n",
            "arashnic/hr-analytics-job-change-of-data-scientists    HR Analytics: Job Change of Data Scientists         295KB  2020-12-07 00:25:10           5307  \n",
            "google/tinyquickdraw                                   QuickDraw Sketches                                   11GB  2018-04-18 19:38:04           2785  \n",
            "sootersaalu/amazon-top-50-bestselling-books-2009-2019  Amazon Top 50 Bestselling Books 2009 - 2019          15KB  2020-10-13 09:39:21          15464  \n",
            "datasnaek/youtube-new                                  Trending YouTube Video Statistics                   201MB  2019-06-03 00:56:47         125301  \n",
            "zynicide/wine-reviews                                  Wine Reviews                                         51MB  2017-11-27 17:08:04         126796  \n",
            "datasnaek/chess                                        Chess Game Dataset (Lichess)                          3MB  2017-09-04 03:09:09          14172  \n",
            "nasa/kepler-exoplanet-search-results                   Kepler Exoplanet Search Results                       1MB  2017-10-10 18:26:59           5878  \n"
          ],
          "name": "stdout"
        }
      ]
    },
    {
      "cell_type": "code",
      "metadata": {
        "colab": {
          "base_uri": "https://localhost:8080/"
        },
        "id": "NFYC9FooyOMT",
        "outputId": "b23fb7a2-5aa3-48f9-a58b-199324d6e3f9"
      },
      "source": [
        "!kaggle competitions download -c challenges-in-representation-learning-facial-expression-recognition-challenge"
      ],
      "execution_count": 2,
      "outputs": [
        {
          "output_type": "stream",
          "text": [
            "Warning: Looks like you're using an outdated API Version, please consider updating (server 1.5.10 / client 1.5.4)\n",
            "Downloading test.csv.zip to /content\n",
            " 52% 10.0M/19.3M [00:00<00:00, 36.0MB/s]\n",
            "100% 19.3M/19.3M [00:00<00:00, 64.6MB/s]\n",
            "Downloading train.csv.zip to /content\n",
            " 94% 73.0M/77.3M [00:00<00:00, 51.4MB/s]\n",
            "100% 77.3M/77.3M [00:01<00:00, 79.5MB/s]\n",
            "Downloading example_submission.csv to /content\n",
            "  0% 0.00/7.01k [00:00<?, ?B/s]\n",
            "100% 7.01k/7.01k [00:00<00:00, 7.38MB/s]\n",
            "Downloading fer2013.tar.gz to /content\n",
            " 83% 76.0M/92.0M [00:01<00:00, 44.5MB/s]\n",
            "100% 92.0M/92.0M [00:01<00:00, 79.2MB/s]\n",
            "Downloading icml_face_data.csv.zip to /content\n",
            " 97% 94.0M/96.6M [00:01<00:00, 68.1MB/s]\n",
            "100% 96.6M/96.6M [00:01<00:00, 82.9MB/s]\n"
          ],
          "name": "stdout"
        }
      ]
    },
    {
      "cell_type": "code",
      "metadata": {
        "colab": {
          "base_uri": "https://localhost:8080/"
        },
        "id": "xG72_v95z6Gq",
        "outputId": "4729f00b-cb65-407b-9aad-d00d3843e942"
      },
      "source": [
        "!tar xvzf fer2013.tar.gz"
      ],
      "execution_count": 3,
      "outputs": [
        {
          "output_type": "stream",
          "text": [
            "fer2013/fer2013.csv\n",
            "fer2013/README\n",
            "fer2013/fer2013.bib\n",
            "fer2013/\n"
          ],
          "name": "stdout"
        }
      ]
    },
    {
      "cell_type": "markdown",
      "metadata": {
        "id": "qeaMIiDT0ppv"
      },
      "source": [
        "## Exploring the data"
      ]
    },
    {
      "cell_type": "code",
      "metadata": {
        "id": "FP2SxDlu0ryl"
      },
      "source": [
        "import pandas as pd\n",
        "import matplotlib.pyplot as plt\n",
        "import numpy as np"
      ],
      "execution_count": 4,
      "outputs": []
    },
    {
      "cell_type": "code",
      "metadata": {
        "colab": {
          "base_uri": "https://localhost:8080/"
        },
        "id": "ePkFa4P80ybF",
        "outputId": "8d8be47b-b055-4d13-a053-6a6be65f71d9"
      },
      "source": [
        "df = pd.read_csv('fer2013/fer2013.csv')\n",
        "df.info()"
      ],
      "execution_count": 5,
      "outputs": [
        {
          "output_type": "stream",
          "text": [
            "<class 'pandas.core.frame.DataFrame'>\n",
            "RangeIndex: 35887 entries, 0 to 35886\n",
            "Data columns (total 3 columns):\n",
            " #   Column   Non-Null Count  Dtype \n",
            "---  ------   --------------  ----- \n",
            " 0   emotion  35887 non-null  int64 \n",
            " 1   pixels   35887 non-null  object\n",
            " 2   Usage    35887 non-null  object\n",
            "dtypes: int64(1), object(2)\n",
            "memory usage: 841.2+ KB\n"
          ],
          "name": "stdout"
        }
      ]
    },
    {
      "cell_type": "markdown",
      "metadata": {
        "id": "DCf7kH_jwvCu"
      },
      "source": [
        "We can use Counter to examine our data. Perhaps the most important thing to note here is the distribution of different emotions in the dataset. There are very little images of disguist and the most images of happiness.\n"
      ]
    },
    {
      "cell_type": "code",
      "metadata": {
        "id": "eS11D04pfynx"
      },
      "source": [
        "from collections import Counter\n",
        "cnt = Counter()"
      ],
      "execution_count": 6,
      "outputs": []
    },
    {
      "cell_type": "code",
      "metadata": {
        "colab": {
          "base_uri": "https://localhost:8080/"
        },
        "id": "VcQhqS71f1aL",
        "outputId": "cbad505a-6554-4125-8487-fd7564c63683"
      },
      "source": [
        "print(Counter(df))\n",
        "print(Counter(df['emotion']))\n",
        "Counter(df['Usage'])"
      ],
      "execution_count": 7,
      "outputs": [
        {
          "output_type": "stream",
          "text": [
            "Counter({'emotion': 1, 'pixels': 1, 'Usage': 1})\n",
            "Counter({3: 8989, 6: 6198, 4: 6077, 2: 5121, 0: 4953, 5: 4002, 1: 547})\n"
          ],
          "name": "stdout"
        },
        {
          "output_type": "execute_result",
          "data": {
            "text/plain": [
              "Counter({'PrivateTest': 3589, 'PublicTest': 3589, 'Training': 28709})"
            ]
          },
          "metadata": {
            "tags": []
          },
          "execution_count": 7
        }
      ]
    },
    {
      "cell_type": "code",
      "metadata": {
        "colab": {
          "base_uri": "https://localhost:8080/",
          "height": 204
        },
        "id": "g89aue4Z07s8",
        "outputId": "85d432c2-3ee6-4348-ac88-0c51e3e6e98b"
      },
      "source": [
        "emotion_labels = {0: 'Angry', 1: 'Disgust', 2: 'Fear', 3: 'Happy', 4: 'Sad', 5: 'Surprise', 6: 'Neutral'}\n",
        "df.head()"
      ],
      "execution_count": 8,
      "outputs": [
        {
          "output_type": "execute_result",
          "data": {
            "text/html": [
              "<div>\n",
              "<style scoped>\n",
              "    .dataframe tbody tr th:only-of-type {\n",
              "        vertical-align: middle;\n",
              "    }\n",
              "\n",
              "    .dataframe tbody tr th {\n",
              "        vertical-align: top;\n",
              "    }\n",
              "\n",
              "    .dataframe thead th {\n",
              "        text-align: right;\n",
              "    }\n",
              "</style>\n",
              "<table border=\"1\" class=\"dataframe\">\n",
              "  <thead>\n",
              "    <tr style=\"text-align: right;\">\n",
              "      <th></th>\n",
              "      <th>emotion</th>\n",
              "      <th>pixels</th>\n",
              "      <th>Usage</th>\n",
              "    </tr>\n",
              "  </thead>\n",
              "  <tbody>\n",
              "    <tr>\n",
              "      <th>0</th>\n",
              "      <td>0</td>\n",
              "      <td>70 80 82 72 58 58 60 63 54 58 60 48 89 115 121...</td>\n",
              "      <td>Training</td>\n",
              "    </tr>\n",
              "    <tr>\n",
              "      <th>1</th>\n",
              "      <td>0</td>\n",
              "      <td>151 150 147 155 148 133 111 140 170 174 182 15...</td>\n",
              "      <td>Training</td>\n",
              "    </tr>\n",
              "    <tr>\n",
              "      <th>2</th>\n",
              "      <td>2</td>\n",
              "      <td>231 212 156 164 174 138 161 173 182 200 106 38...</td>\n",
              "      <td>Training</td>\n",
              "    </tr>\n",
              "    <tr>\n",
              "      <th>3</th>\n",
              "      <td>4</td>\n",
              "      <td>24 32 36 30 32 23 19 20 30 41 21 22 32 34 21 1...</td>\n",
              "      <td>Training</td>\n",
              "    </tr>\n",
              "    <tr>\n",
              "      <th>4</th>\n",
              "      <td>6</td>\n",
              "      <td>4 0 0 0 0 0 0 0 0 0 0 0 3 15 23 28 48 50 58 84...</td>\n",
              "      <td>Training</td>\n",
              "    </tr>\n",
              "  </tbody>\n",
              "</table>\n",
              "</div>"
            ],
            "text/plain": [
              "   emotion                                             pixels     Usage\n",
              "0        0  70 80 82 72 58 58 60 63 54 58 60 48 89 115 121...  Training\n",
              "1        0  151 150 147 155 148 133 111 140 170 174 182 15...  Training\n",
              "2        2  231 212 156 164 174 138 161 173 182 200 106 38...  Training\n",
              "3        4  24 32 36 30 32 23 19 20 30 41 21 22 32 34 21 1...  Training\n",
              "4        6  4 0 0 0 0 0 0 0 0 0 0 0 3 15 23 28 48 50 58 84...  Training"
            ]
          },
          "metadata": {
            "tags": []
          },
          "execution_count": 8
        }
      ]
    },
    {
      "cell_type": "markdown",
      "metadata": {
        "id": "_mW4eRpX2S6y"
      },
      "source": [
        "Each image is represented as pixels like so."
      ]
    },
    {
      "cell_type": "code",
      "metadata": {
        "colab": {
          "base_uri": "https://localhost:8080/",
          "height": 137
        },
        "id": "-ezDIqlk2PMg",
        "outputId": "fd425fc0-4ba9-4a1a-985d-e84d7322634a"
      },
      "source": [
        "df['pixels'][0]"
      ],
      "execution_count": 9,
      "outputs": [
        {
          "output_type": "execute_result",
          "data": {
            "application/vnd.google.colaboratory.intrinsic+json": {
              "type": "string"
            },
            "text/plain": [
              "'70 80 82 72 58 58 60 63 54 58 60 48 89 115 121 119 115 110 98 91 84 84 90 99 110 126 143 153 158 171 169 172 169 165 129 110 113 107 95 79 66 62 56 57 61 52 43 41 65 61 58 57 56 69 75 70 65 56 54 105 146 154 151 151 155 155 150 147 147 148 152 158 164 172 177 182 186 189 188 190 188 180 167 116 95 103 97 77 72 62 55 58 54 56 52 44 50 43 54 64 63 71 68 64 52 66 119 156 161 164 163 164 167 168 170 174 175 176 178 179 183 187 190 195 197 198 197 198 195 191 190 145 86 100 90 65 57 60 54 51 41 49 56 47 38 44 63 55 46 52 54 55 83 138 157 158 165 168 172 171 173 176 179 179 180 182 185 187 189 189 192 197 200 199 196 198 200 198 197 177 91 87 96 58 58 59 51 42 37 41 47 45 37 35 36 30 41 47 59 94 141 159 161 161 164 170 171 172 176 178 179 182 183 183 187 189 192 192 194 195 200 200 199 199 200 201 197 193 111 71 108 69 55 61 51 42 43 56 54 44 24 29 31 45 61 72 100 136 150 159 163 162 163 170 172 171 174 177 177 180 187 186 187 189 192 192 194 195 196 197 199 200 201 200 197 201 137 58 98 92 57 62 53 47 41 40 51 43 24 35 52 63 75 104 129 143 149 158 162 164 166 171 173 172 174 178 178 179 187 188 188 191 193 194 195 198 199 199 197 198 197 197 197 201 164 52 78 87 69 58 56 50 54 39 44 42 26 31 49 65 91 119 134 145 147 152 159 163 167 171 170 169 174 178 178 179 187 187 185 187 190 188 187 191 197 201 199 199 200 197 196 197 182 58 62 77 61 60 55 49 59 52 54 44 22 30 47 68 102 123 136 144 148 150 153 157 167 172 173 170 171 177 179 178 186 190 186 189 196 193 191 194 190 190 192 197 201 203 199 194 189 69 48 74 56 60 57 50 59 59 51 41 20 34 47 79 111 132 139 143 145 147 150 151 160 169 172 171 167 171 177 177 174 180 182 181 192 196 189 192 198 195 194 196 198 201 202 195 189 70 39 69 61 61 61 53 59 59 45 40 26 40 61 93 124 135 138 142 144 146 151 152 158 165 168 168 165 161 164 173 172 167 172 167 180 198 198 193 199 195 194 198 200 198 197 195 190 65 35 68 59 59 62 57 60 59 50 44 32 54 90 115 132 137 138 140 144 146 146 156 165 168 174 176 176 175 168 168 169 171 175 171 172 192 194 184 198 205 201 194 195 193 195 192 186 57 38 72 65 57 62 58 57 60 54 49 47 79 116 130 138 141 141 139 141 143 145 157 164 164 166 173 174 176 179 179 176 181 189 188 173 180 175 160 182 189 198 192 189 190 190 188 172 46 44 64 66 59 62 57 56 62 53 50 66 103 133 137 141 143 141 136 132 131 136 127 118 111 107 108 123 131 143 154 158 166 177 181 175 170 159 148 171 161 176 185 192 194 188 190 162 53 49 58 63 61 61 55 56 61 51 50 81 116 139 142 142 146 144 136 128 119 112 97 85 90 91 88 92 90 80 81 84 106 122 132 144 145 144 147 163 147 163 173 181 190 187 191 167 61 48 53 61 61 58 54 56 61 51 53 89 123 140 144 145 146 147 136 122 107 99 95 92 90 87 83 76 67 52 46 52 63 69 83 96 119 132 148 159 136 137 143 138 143 152 156 156 70 48 50 59 61 57 54 54 61 52 56 93 124 135 140 144 148 150 140 125 114 101 80 54 56 54 41 41 33 40 39 35 49 60 63 74 107 129 147 147 116 111 100 77 76 86 108 111 73 49 50 60 62 60 57 55 63 59 56 89 121 134 139 146 151 152 150 141 127 111 96 77 85 70 32 31 37 91 65 50 48 59 73 83 112 136 155 130 60 46 38 40 43 81 116 91 72 52 48 58 62 62 59 53 61 59 52 85 114 134 140 147 154 159 158 153 145 143 150 126 121 125 68 45 89 137 95 70 78 75 95 109 131 153 171 94 23 16 32 82 82 65 113 77 71 54 48 56 62 62 60 53 60 56 52 75 108 133 141 149 158 166 169 167 163 156 155 146 112 119 134 127 142 140 121 117 129 114 120 129 146 174 191 98 46 33 33 109 147 98 109 67 73 55 50 56 64 64 61 58 61 53 54 64 106 129 140 148 159 169 175 176 174 165 159 156 145 120 115 124 127 131 133 141 147 142 141 147 161 182 202 154 114 96 100 158 158 153 123 61 76 57 48 56 64 64 63 62 61 54 55 44 97 131 137 147 158 168 177 181 183 179 170 168 169 165 155 152 151 152 154 162 165 158 153 158 168 187 206 186 147 135 144 145 152 178 115 57 74 58 48 58 64 63 63 59 63 55 53 66 104 130 132 144 153 162 170 180 185 187 181 178 182 180 177 173 171 171 177 176 172 164 161 167 164 185 207 197 173 152 141 141 161 191 104 54 69 60 48 57 65 62 60 57 64 55 50 94 111 124 130 135 150 159 163 172 179 184 184 178 178 177 173 171 174 177 178 176 169 165 161 163 161 180 205 201 183 171 177 178 180 194 101 55 65 60 47 55 65 63 59 58 63 57 52 90 105 117 122 130 143 153 157 163 171 174 182 183 182 178 174 175 175 177 175 172 163 161 159 157 162 178 200 201 188 181 172 177 187 198 98 57 63 61 48 52 61 64 63 60 65 57 51 95 104 113 117 127 136 145 152 156 162 162 165 173 177 182 183 183 180 181 177 165 153 154 152 153 160 174 193 200 188 185 180 182 192 196 101 60 60 56 49 50 60 66 64 62 64 59 53 99 104 111 112 118 132 142 147 155 158 160 159 162 171 176 184 186 183 180 169 154 141 135 145 155 164 180 196 205 188 189 188 189 193 192 98 61 64 55 49 49 60 66 63 64 63 60 57 99 105 108 112 113 125 139 143 150 155 158 164 169 174 176 182 183 182 177 163 141 133 147 151 164 170 185 200 210 194 188 192 186 185 180 88 64 67 60 46 50 59 65 64 64 64 59 56 101 103 108 109 109 118 134 143 143 147 155 159 166 171 174 177 179 178 172 153 129 143 161 159 166 171 186 197 207 203 185 191 183 179 164 73 67 67 66 48 50 57 65 65 63 64 61 57 103 108 114 112 110 115 128 138 144 145 152 156 159 164 168 172 172 169 161 139 125 147 156 161 162 164 180 188 188 197 185 187 181 180 137 65 70 68 70 52 47 53 62 65 63 65 61 58 105 109 112 120 113 112 122 134 141 149 150 153 155 159 164 167 167 162 152 134 115 126 119 106 99 109 141 158 150 155 175 184 176 175 106 63 70 68 68 50 46 50 57 63 63 64 61 59 107 110 110 117 117 114 117 128 137 147 148 150 153 156 161 162 163 156 150 148 105 70 45 26 25 47 73 74 79 128 177 180 173 157 77 66 68 67 68 52 49 51 56 62 62 62 62 60 101 107 108 114 115 114 117 125 134 143 148 149 152 154 158 160 158 155 160 158 132 88 73 73 64 52 66 91 138 160 174 173 171 125 64 67 63 64 68 54 50 49 54 60 60 60 62 60 98 105 105 109 111 114 117 125 131 139 145 148 153 153 156 157 156 161 168 165 153 139 122 115 105 89 103 150 182 161 171 173 162 89 64 64 62 64 69 56 48 49 56 58 60 59 62 60 89 99 108 106 109 111 119 120 125 134 140 146 152 153 153 153 156 159 162 160 150 136 129 133 133 122 133 148 178 168 168 175 132 61 67 66 65 63 69 57 47 50 55 58 59 61 62 60 89 96 105 107 105 107 117 120 123 124 133 141 149 153 151 145 151 145 139 140 138 128 126 124 129 125 136 142 164 172 168 168 87 58 67 63 62 61 69 57 39 44 55 56 59 63 62 62 84 91 92 98 102 103 113 119 121 118 128 138 146 151 147 142 140 128 127 128 129 126 135 140 135 130 143 146 149 166 174 131 62 65 62 59 67 63 68 83 89 65 42 52 60 60 62 63 77 84 84 91 99 101 107 112 117 118 122 134 145 149 144 134 127 127 129 130 134 125 126 132 152 153 151 150 151 165 171 87 59 65 64 61 58 86 122 138 208 207 154 71 52 56 55 56 69 77 83 85 93 91 102 112 116 118 119 127 140 144 142 131 112 95 85 75 62 58 56 59 87 88 83 127 142 165 149 62 65 62 59 77 113 192 156 84 185 196 197 168 81 70 75 69 58 65 73 82 81 79 95 107 114 116 116 123 136 142 136 132 131 102 71 58 49 41 33 41 36 49 60 99 136 168 111 53 63 71 138 186 203 195 146 87 91 72 79 95 103 82 61 74 55 57 68 75 76 77 84 96 106 110 111 121 130 138 136 142 153 159 152 152 154 145 133 136 147 158 156 155 147 158 74 57 60 123 181 174 126 89 72 67 57 43 55 67 76 86 60 45 51 45 52 68 75 73 77 88 96 100 104 113 115 121 134 146 149 146 149 148 155 168 174 179 178 169 169 174 161 131 44 47 82 150 168 136 104 75 66 80 67 58 48 54 68 88 121 102 51 45 38 53 66 65 70 86 92 96 102 103 109 116 130 136 136 133 136 138 137 135 128 130 143 158 165 164 147 87 62 74 123 160 170 100 99 107 79 71 86 75 57 45 49 65 122 130 43 48 40 39 55 61 59 71 82 87 88 93 105 118 123 128 130 124 111 98 94 88 67 55 84 129 147 148 105 48 82 142 161 164 164 76 72 85 100 88 72 90 84 54 48 54 73 100 73 36 44 31 37 53 51 55 67 74 77 87 97 108 118 125 132 122 106 86 80 82 75 73 83 110 129 126 46 22 130 177 196 193 166 72 52 54 73 100 92 75 99 95 65 68 61 63 91 65 42 37 22 28 39 44 57 68 74 83 92 101 119 131 143 141 134 136 140 139 134 136 139 138 136 85 23 114 202 198 199 180 173 98 36 86 130 150 137 99 77 101 99 72 56 43 77 82 79 70 56 28 20 25 36 50 63 73 83 98 111 124 139 156 160 159 169 168 165 163 159 149 114 43 26 133 183 192 177 152 137 130 125 139 173 195 186 137 101 88 101 105 70 46 77 72 84 87 87 81 64 37 20 31 40 46 65 88 108 110 125 149 157 153 162 164 158 159 154 140 78 21 11 61 144 168 173 157 138 150 148 132 159 182 183 136 106 116 95 106 109 82'"
            ]
          },
          "metadata": {
            "tags": []
          },
          "execution_count": 9
        }
      ]
    },
    {
      "cell_type": "code",
      "metadata": {
        "colab": {
          "base_uri": "https://localhost:8080/",
          "height": 265
        },
        "id": "1_ctvPzr1m0y",
        "outputId": "7f8b40a8-6f51-43f6-a461-4a6b8692b631"
      },
      "source": [
        "idx = np.random.randint(0, 35886)\n",
        "image = df[\"pixels\"][idx]\n",
        "val = image.split(\" \")\n",
        "x_pixels = np.array(val, 'float32')\n",
        "x_pixels /= 255\n",
        "x_reshaped = x_pixels.reshape(48,48)\n",
        "plt.imshow(x_reshaped, cmap= \"gray\", interpolation=\"nearest\")\n",
        "plt.axis(\"off\")\n",
        "emotion = df['emotion'][idx]\n",
        "print(emotion, emotion_labels[emotion])"
      ],
      "execution_count": 10,
      "outputs": [
        {
          "output_type": "stream",
          "text": [
            "6 Neutral\n"
          ],
          "name": "stdout"
        },
        {
          "output_type": "display_data",
          "data": {
            "image/png": "[encoded data removed]",
            "text/plain": [
              "<Figure size 432x288 with 1 Axes>"
            ]
          },
          "metadata": {
            "tags": [],
            "needs_background": "light"
          }
        }
      ]
    },
    {
      "cell_type": "markdown",
      "metadata": {
        "id": "wy0_QHGg3Y8M"
      },
      "source": [
        "## Data preprocessing"
      ]
    },
    {
      "cell_type": "markdown",
      "metadata": {
        "id": "KwFdHDV75Wb4"
      },
      "source": [
        "There are some things we must do before we can train the model. The pixels right now are represented as space seperated integers and must be converted to numpy arrays. The data must be split into X and Y, and further into training and testing data. We may prefer to represent the Y as one hot encodings rather than as numbers from 0 - 6."
      ]
    },
    {
      "cell_type": "code",
      "metadata": {
        "id": "I6mmvA0V3anq"
      },
      "source": [
        "import sklearn as sk\n",
        "from sklearn.preprocessing import StandardScaler\n",
        "import keras\n",
        "from keras.utils import to_categorical"
      ],
      "execution_count": 11,
      "outputs": []
    },
    {
      "cell_type": "markdown",
      "metadata": {
        "id": "XpichZ0vfC6C"
      },
      "source": [
        "https://www.kaggle.com/drcapa/facial-expression-eda-cnn\n",
        "This has some code I'm stealing.\n"
      ]
    },
    {
      "cell_type": "code",
      "metadata": {
        "id": "xbw8W1QD5r1G"
      },
      "source": [
        "# here's code I stole \n",
        "def prepare_data(data):\n",
        "    \"\"\" Prepare data for modeling \n",
        "        input: data frame with labels und pixel data\n",
        "        output: image and label array \"\"\"\n",
        "    \n",
        "    image_array = np.zeros(shape=(len(data), 48, 48))\n",
        "    image_label = np.array(list(map(int, data['emotion'])))\n",
        "    \n",
        "    for i, row in enumerate(data.index):\n",
        "        image = np.fromstring(data.loc[row, 'pixels'], dtype=int, sep=' ')\n",
        "        image = np.reshape(image, (48, 48))\n",
        "        image = np.divide(image, 255)\n",
        "        image_array[i] = image\n",
        "        \n",
        "    return image_array, image_label"
      ],
      "execution_count": 12,
      "outputs": []
    },
    {
      "cell_type": "markdown",
      "metadata": {
        "id": "VKQGDQBJ7jYs"
      },
      "source": [
        "We'll test the prepare data function before actually using it for our data."
      ]
    },
    {
      "cell_type": "code",
      "metadata": {
        "colab": {
          "base_uri": "https://localhost:8080/"
        },
        "id": "Maz4nnEn59ZS",
        "outputId": "a9c48e16-464c-4062-b508-90e74dc24a19"
      },
      "source": [
        "images, labels = prepare_data(df)\n",
        "print(images.shape)\n",
        "print(labels.shape)"
      ],
      "execution_count": 13,
      "outputs": [
        {
          "output_type": "stream",
          "text": [
            "(35887, 48, 48)\n",
            "(35887,)\n"
          ],
          "name": "stdout"
        }
      ]
    },
    {
      "cell_type": "code",
      "metadata": {
        "colab": {
          "base_uri": "https://localhost:8080/"
        },
        "id": "4FmvvjJ6lZpP",
        "outputId": "d77d170e-b601-48b1-ec2d-64fafeaab3e5"
      },
      "source": [
        "print(images[0])"
      ],
      "execution_count": 14,
      "outputs": [
        {
          "output_type": "stream",
          "text": [
            "[[0.2745098  0.31372549 0.32156863 ... 0.20392157 0.16862745 0.16078431]\n",
            " [0.25490196 0.23921569 0.22745098 ... 0.21960784 0.20392157 0.17254902]\n",
            " [0.19607843 0.16862745 0.21176471 ... 0.19215686 0.21960784 0.18431373]\n",
            " ...\n",
            " [0.35686275 0.25490196 0.16470588 ... 0.28235294 0.21960784 0.16862745]\n",
            " [0.30196078 0.32156863 0.30980392 ... 0.41176471 0.2745098  0.18039216]\n",
            " [0.30196078 0.28235294 0.32941176 ... 0.41568627 0.42745098 0.32156863]]\n"
          ],
          "name": "stdout"
        }
      ]
    },
    {
      "cell_type": "code",
      "metadata": {
        "colab": {
          "base_uri": "https://localhost:8080/",
          "height": 284
        },
        "id": "yHs_2n297FiE",
        "outputId": "fce94ed8-cbb4-4550-c05c-c7266cccb6d6"
      },
      "source": [
        "plt.imshow(images[0], cmap='gray')\n",
        "print(labels[0], emotion_labels[labels[0]])\n",
        "plt.show()"
      ],
      "execution_count": 15,
      "outputs": [
        {
          "output_type": "stream",
          "text": [
            "0 Angry\n"
          ],
          "name": "stdout"
        },
        {
          "output_type": "display_data",
          "data": {
            "image/png": "[encoded data removed]",
            "text/plain": [
              "<Figure size 432x288 with 1 Axes>"
            ]
          },
          "metadata": {
            "tags": [],
            "needs_background": "light"
          }
        }
      ]
    },
    {
      "cell_type": "markdown",
      "metadata": {
        "id": "ZgxkQv_Tgpvk"
      },
      "source": [
        "We can use one hot encoding to represent the labels."
      ]
    },
    {
      "cell_type": "code",
      "metadata": {
        "colab": {
          "base_uri": "https://localhost:8080/"
        },
        "id": "3PXD2rjT8ZMs",
        "outputId": "0893a08b-bb3e-4ff6-a327-3d0a7ca91bdb"
      },
      "source": [
        "one_hot_labels = keras.utils.to_categorical(labels, len(set(labels)))\n",
        "one_hot_labels.shape"
      ],
      "execution_count": 16,
      "outputs": [
        {
          "output_type": "execute_result",
          "data": {
            "text/plain": [
              "(35887, 7)"
            ]
          },
          "metadata": {
            "tags": []
          },
          "execution_count": 16
        }
      ]
    },
    {
      "cell_type": "code",
      "metadata": {
        "colab": {
          "base_uri": "https://localhost:8080/"
        },
        "id": "xf86YzttgugI",
        "outputId": "194e0cf1-293b-4713-80cd-1d6d8b22a32f"
      },
      "source": [
        "print(one_hot_labels[0])"
      ],
      "execution_count": 17,
      "outputs": [
        {
          "output_type": "stream",
          "text": [
            "[1. 0. 0. 0. 0. 0. 0.]\n"
          ],
          "name": "stdout"
        }
      ]
    },
    {
      "cell_type": "markdown",
      "metadata": {
        "id": "UkisdDrxgx3B"
      },
      "source": [
        "Now I will actually prepare the data. I will start with the training, test split. The Kaggle dataset labeled images as Training, PublicTest, and PrivateTest."
      ]
    },
    {
      "cell_type": "code",
      "metadata": {
        "colab": {
          "base_uri": "https://localhost:8080/"
        },
        "id": "W6Zr7-L1hwjO",
        "outputId": "2c1aeabe-6b20-4969-a50f-717ede9b37d5"
      },
      "source": [
        "print(df[df['Usage'] == 'Training'].shape)\n",
        "print(df[df['Usage'] == 'PrivateTest'].shape)\n",
        "print(df[df['Usage'] == 'PublicTest'].shape)"
      ],
      "execution_count": 18,
      "outputs": [
        {
          "output_type": "stream",
          "text": [
            "(28709, 3)\n",
            "(3589, 3)\n",
            "(3589, 3)\n"
          ],
          "name": "stdout"
        }
      ]
    },
    {
      "cell_type": "code",
      "metadata": {
        "id": "aycfasoYhE8M"
      },
      "source": [
        "# note that the prepare_data function is creating numpy arrays from pandas dataframes\n",
        "\n",
        "X_train, y_train = prepare_data(df[df['Usage'] == 'Training'])\n",
        "X_val, y_val = prepare_data(df[df['Usage'] == 'PrivateTest'])\n",
        "X_test, y_test = prepare_data(df[df['Usage'] == 'PublicTest'])"
      ],
      "execution_count": 19,
      "outputs": []
    },
    {
      "cell_type": "code",
      "metadata": {
        "id": "boYAGT8UiVSO"
      },
      "source": [
        "y_train = keras.utils.to_categorical(y_train, len(set(y_train)))\n",
        "y_val = keras.utils.to_categorical(y_val, len(set(y_val)))\n",
        "y_test = keras.utils.to_categorical(y_test, len(set(y_test)))"
      ],
      "execution_count": 20,
      "outputs": []
    },
    {
      "cell_type": "code",
      "metadata": {
        "colab": {
          "base_uri": "https://localhost:8080/"
        },
        "id": "tdNJBMgZ4S4d",
        "outputId": "4a77928e-13d1-4819-c8f9-7f88bc8e5952"
      },
      "source": [
        "print(X_train.shape, y_train.shape)\n",
        "print(X_val.shape, y_val.shape)\n",
        "print(X_test.shape, y_test.shape)"
      ],
      "execution_count": 21,
      "outputs": [
        {
          "output_type": "stream",
          "text": [
            "(28709, 48, 48) (28709, 7)\n",
            "(3589, 48, 48) (3589, 7)\n",
            "(3589, 48, 48) (3589, 7)\n"
          ],
          "name": "stdout"
        }
      ]
    },
    {
      "cell_type": "markdown",
      "metadata": {
        "id": "IXUZnHZ8ljw0"
      },
      "source": [
        "Expand the dimensions of our images to make them compatible with the VGG model."
      ]
    },
    {
      "cell_type": "code",
      "metadata": {
        "id": "3NGL4FolkgEx"
      },
      "source": [
        "X_train = np.expand_dims(X_train, 3)\n",
        "X_val = np.expand_dims(X_val, 3)\n",
        "X_test = np.expand_dims(X_test, 3)"
      ],
      "execution_count": 22,
      "outputs": []
    },
    {
      "cell_type": "code",
      "metadata": {
        "colab": {
          "base_uri": "https://localhost:8080/"
        },
        "id": "bR2zXXSYnWm9",
        "outputId": "17f3a8c6-4dfb-49e0-e83b-ff619163f5a6"
      },
      "source": [
        "print(X_train.shape)\n",
        "print(X_val.shape)\n",
        "print(X_test.shape)"
      ],
      "execution_count": 23,
      "outputs": [
        {
          "output_type": "stream",
          "text": [
            "(28709, 48, 48, 1)\n",
            "(3589, 48, 48, 1)\n",
            "(3589, 48, 48, 1)\n"
          ],
          "name": "stdout"
        }
      ]
    },
    {
      "cell_type": "code",
      "metadata": {
        "id": "dUt97ERum9cx"
      },
      "source": [
        "# stole this code from inspirit ai notebook\n",
        "\n",
        "X_train = np.array([np.transpose(np.array([X_train[ix].squeeze() for i in range(3)]), (1,2,0)) for ix in range(len(X_train))])\n",
        "X_val = np.array([np.transpose(np.array([X_val[ix].squeeze() for i in range(3)]), (1,2,0)) for ix in range(len(X_val))])\n",
        "X_test = np.array([np.transpose(np.array([X_test[ix].squeeze() for i in range(3)]), (1,2,0)) for ix in range(len(X_test))])"
      ],
      "execution_count": 24,
      "outputs": []
    },
    {
      "cell_type": "code",
      "metadata": {
        "colab": {
          "base_uri": "https://localhost:8080/"
        },
        "id": "rfRKcAmOlBAH",
        "outputId": "e960fd6a-e4c0-43f8-b566-240f714547e6"
      },
      "source": [
        "print(X_train.shape)\n",
        "print(X_val.shape)\n",
        "print(X_test.shape)"
      ],
      "execution_count": 25,
      "outputs": [
        {
          "output_type": "stream",
          "text": [
            "(28709, 48, 48, 3)\n",
            "(3589, 48, 48, 3)\n",
            "(3589, 48, 48, 3)\n"
          ],
          "name": "stdout"
        }
      ]
    },
    {
      "cell_type": "markdown",
      "metadata": {
        "id": "hhVrBxmD-axz"
      },
      "source": [
        "## Building the Model"
      ]
    },
    {
      "cell_type": "markdown",
      "metadata": {
        "id": "DRMoemTmpnex"
      },
      "source": [
        "I will be using the prebuilt VGG16 model and training it again on this dataset. This process is known as transfer learning. We are using the prebuilt layers of the model (an architecture that has been designed by researchers). Additionally, we are starting with pretrained weights from the imagenet database."
      ]
    },
    {
      "cell_type": "code",
      "metadata": {
        "id": "6Q8SFXR3qKxJ"
      },
      "source": [
        "from keras.models import Sequential\n",
        "from keras.layers import  MaxPooling2D, Dropout, Dense, GlobalAveragePooling2D\n",
        "import keras.optimizers as optimizers\n",
        "from keras.applications.vgg16 import VGG16\n",
        "from keras.callbacks import ModelCheckpoint"
      ],
      "execution_count": 26,
      "outputs": []
    },
    {
      "cell_type": "code",
      "metadata": {
        "id": "9268AokU-aQ6",
        "colab": {
          "base_uri": "https://localhost:8080/"
        },
        "outputId": "f1792b53-c1f4-4470-9350-7a7ceef1c8be"
      },
      "source": [
        "# load the vgg network that is an 'expert' at 'imagenet' but do not include the FC layers\n",
        "vgg_expert = VGG16(weights = 'imagenet', include_top = False, input_shape = (48, 48, 3))\n",
        "\n",
        "# we start with the first layers of vgg and add them to our own model vgg_model\n",
        "vgg_model = Sequential()\n",
        "vgg_model.add(vgg_expert)\n",
        "\n",
        "# and then add our own layers on top of it\n",
        "vgg_model.add(GlobalAveragePooling2D())\n",
        "vgg_model.add(Dense(1024, activation = 'relu'))\n",
        "vgg_model.add(Dropout(0.3))\n",
        "vgg_model.add(Dense(512, activation = 'relu'))\n",
        "vgg_model.add(Dropout(0.3))\n",
        "vgg_model.add(Dense(7, activation = 'sigmoid'))\n",
        "\n",
        "# finally, we build the vgg model and turn it on so we can use it!\n",
        "vgg_model.compile(loss = 'categorical_crossentropy', \n",
        "          optimizer = optimizers.SGD(lr=1e-4, momentum=0.95), \n",
        "          metrics=['accuracy'])"
      ],
      "execution_count": 27,
      "outputs": [
        {
          "output_type": "stream",
          "text": [
            "Downloading data from https://storage.googleapis.com/tensorflow/keras-applications/vgg16/vgg16_weights_tf_dim_ordering_tf_kernels_notop.h5\n",
            "58892288/58889256 [==============================] - 0s 0us/step\n"
          ],
          "name": "stdout"
        }
      ]
    },
    {
      "cell_type": "code",
      "metadata": {
        "colab": {
          "base_uri": "https://localhost:8080/"
        },
        "id": "uu-KHGjAqlF1",
        "outputId": "7d2a846d-7c8a-4a46-af3d-e3400a8f40d6"
      },
      "source": [
        "vgg_expert.summary()"
      ],
      "execution_count": 28,
      "outputs": [
        {
          "output_type": "stream",
          "text": [
            "Model: \"vgg16\"\n",
            "_________________________________________________________________\n",
            "Layer (type)                 Output Shape              Param #   \n",
            "=================================================================\n",
            "input_1 (InputLayer)         [(None, 48, 48, 3)]       0         \n",
            "_________________________________________________________________\n",
            "block1_conv1 (Conv2D)        (None, 48, 48, 64)        1792      \n",
            "_________________________________________________________________\n",
            "block1_conv2 (Conv2D)        (None, 48, 48, 64)        36928     \n",
            "_________________________________________________________________\n",
            "block1_pool (MaxPooling2D)   (None, 24, 24, 64)        0         \n",
            "_________________________________________________________________\n",
            "block2_conv1 (Conv2D)        (None, 24, 24, 128)       73856     \n",
            "_________________________________________________________________\n",
            "block2_conv2 (Conv2D)        (None, 24, 24, 128)       147584    \n",
            "_________________________________________________________________\n",
            "block2_pool (MaxPooling2D)   (None, 12, 12, 128)       0         \n",
            "_________________________________________________________________\n",
            "block3_conv1 (Conv2D)        (None, 12, 12, 256)       295168    \n",
            "_________________________________________________________________\n",
            "block3_conv2 (Conv2D)        (None, 12, 12, 256)       590080    \n",
            "_________________________________________________________________\n",
            "block3_conv3 (Conv2D)        (None, 12, 12, 256)       590080    \n",
            "_________________________________________________________________\n",
            "block3_pool (MaxPooling2D)   (None, 6, 6, 256)         0         \n",
            "_________________________________________________________________\n",
            "block4_conv1 (Conv2D)        (None, 6, 6, 512)         1180160   \n",
            "_________________________________________________________________\n",
            "block4_conv2 (Conv2D)        (None, 6, 6, 512)         2359808   \n",
            "_________________________________________________________________\n",
            "block4_conv3 (Conv2D)        (None, 6, 6, 512)         2359808   \n",
            "_________________________________________________________________\n",
            "block4_pool (MaxPooling2D)   (None, 3, 3, 512)         0         \n",
            "_________________________________________________________________\n",
            "block5_conv1 (Conv2D)        (None, 3, 3, 512)         2359808   \n",
            "_________________________________________________________________\n",
            "block5_conv2 (Conv2D)        (None, 3, 3, 512)         2359808   \n",
            "_________________________________________________________________\n",
            "block5_conv3 (Conv2D)        (None, 3, 3, 512)         2359808   \n",
            "_________________________________________________________________\n",
            "block5_pool (MaxPooling2D)   (None, 1, 1, 512)         0         \n",
            "=================================================================\n",
            "Total params: 14,714,688\n",
            "Trainable params: 14,714,688\n",
            "Non-trainable params: 0\n",
            "_________________________________________________________________\n"
          ],
          "name": "stdout"
        }
      ]
    },
    {
      "cell_type": "code",
      "metadata": {
        "colab": {
          "base_uri": "https://localhost:8080/"
        },
        "id": "JSN2sJSaqxrb",
        "outputId": "113dc84c-1ad1-4a8f-ed6c-24da65073722"
      },
      "source": [
        "vgg_model.summary()"
      ],
      "execution_count": 29,
      "outputs": [
        {
          "output_type": "stream",
          "text": [
            "Model: \"sequential\"\n",
            "_________________________________________________________________\n",
            "Layer (type)                 Output Shape              Param #   \n",
            "=================================================================\n",
            "vgg16 (Functional)           (None, 1, 1, 512)         14714688  \n",
            "_________________________________________________________________\n",
            "global_average_pooling2d (Gl (None, 512)               0         \n",
            "_________________________________________________________________\n",
            "dense (Dense)                (None, 1024)              525312    \n",
            "_________________________________________________________________\n",
            "dropout (Dropout)            (None, 1024)              0         \n",
            "_________________________________________________________________\n",
            "dense_1 (Dense)              (None, 512)               524800    \n",
            "_________________________________________________________________\n",
            "dropout_1 (Dropout)          (None, 512)               0         \n",
            "_________________________________________________________________\n",
            "dense_2 (Dense)              (None, 7)                 3591      \n",
            "=================================================================\n",
            "Total params: 15,768,391\n",
            "Trainable params: 15,768,391\n",
            "Non-trainable params: 0\n",
            "_________________________________________________________________\n"
          ],
          "name": "stdout"
        }
      ]
    },
    {
      "cell_type": "code",
      "metadata": {
        "id": "MZ4qtEw5pyBN"
      },
      "source": [
        "# some hyperparameters plus checkpoint\n",
        "\n",
        "batch_size = 64\n",
        "epochs = 20 \n",
        "checkpoint = ModelCheckpoint('emotion_detection_vgg.h5', verbose=1, monitor='val_loss',save_best_only=True, mode='auto')"
      ],
      "execution_count": 30,
      "outputs": []
    },
    {
      "cell_type": "markdown",
      "metadata": {
        "id": "Mtj9ayWGrhD4"
      },
      "source": [
        "This is pretty slow (take a look at the model and you'll see why). Make sure to take advantage of the Google Colab GPU (it crashed when I forget to do this)."
      ]
    },
    {
      "cell_type": "code",
      "metadata": {
        "colab": {
          "base_uri": "https://localhost:8080/"
        },
        "id": "CxR95QCj-qtw",
        "outputId": "0e38ab93-0005-4502-f8f3-5db9649d1aba"
      },
      "source": [
        "vgg_history = vgg_model.fit(X_train, y_train,\n",
        "          batch_size=batch_size,\n",
        "          epochs=epochs,\n",
        "          verbose=1,\n",
        "          callbacks=checkpoint,\n",
        "          validation_data=(X_val, y_val),\n",
        "          shuffle=True)"
      ],
      "execution_count": 31,
      "outputs": [
        {
          "output_type": "stream",
          "text": [
            "Epoch 1/20\n",
            "449/449 [==============================] - 35s 61ms/step - loss: 1.8340 - accuracy: 0.2467 - val_loss: 1.5080 - val_accuracy: 0.4093\n",
            "\n",
            "Epoch 00001: val_loss improved from inf to 1.50803, saving model to best_cnn_model.h5\n",
            "Epoch 2/20\n",
            "449/449 [==============================] - 27s 59ms/step - loss: 1.4847 - accuracy: 0.4310 - val_loss: 1.3155 - val_accuracy: 0.4940\n",
            "\n",
            "Epoch 00002: val_loss improved from 1.50803 to 1.31554, saving model to best_cnn_model.h5\n",
            "Epoch 3/20\n",
            "449/449 [==============================] - 28s 62ms/step - loss: 1.3457 - accuracy: 0.4857 - val_loss: 1.2523 - val_accuracy: 0.5183\n",
            "\n",
            "Epoch 00003: val_loss improved from 1.31554 to 1.25229, saving model to best_cnn_model.h5\n",
            "Epoch 4/20\n",
            "449/449 [==============================] - 28s 63ms/step - loss: 1.2563 - accuracy: 0.5246 - val_loss: 1.2139 - val_accuracy: 0.5372\n",
            "\n",
            "Epoch 00004: val_loss improved from 1.25229 to 1.21386, saving model to best_cnn_model.h5\n",
            "Epoch 5/20\n",
            "449/449 [==============================] - 28s 63ms/step - loss: 1.2099 - accuracy: 0.5425 - val_loss: 1.1780 - val_accuracy: 0.5433\n",
            "\n",
            "Epoch 00005: val_loss improved from 1.21386 to 1.17798, saving model to best_cnn_model.h5\n",
            "Epoch 6/20\n",
            "449/449 [==============================] - 28s 63ms/step - loss: 1.1651 - accuracy: 0.5654 - val_loss: 1.1537 - val_accuracy: 0.5645\n",
            "\n",
            "Epoch 00006: val_loss improved from 1.17798 to 1.15373, saving model to best_cnn_model.h5\n",
            "Epoch 7/20\n",
            "449/449 [==============================] - 28s 63ms/step - loss: 1.1311 - accuracy: 0.5787 - val_loss: 1.1323 - val_accuracy: 0.5704\n",
            "\n",
            "Epoch 00007: val_loss improved from 1.15373 to 1.13234, saving model to best_cnn_model.h5\n",
            "Epoch 8/20\n",
            "449/449 [==============================] - 28s 63ms/step - loss: 1.0837 - accuracy: 0.5941 - val_loss: 1.1067 - val_accuracy: 0.5754\n",
            "\n",
            "Epoch 00008: val_loss improved from 1.13234 to 1.10674, saving model to best_cnn_model.h5\n",
            "Epoch 9/20\n",
            "449/449 [==============================] - 28s 63ms/step - loss: 1.0628 - accuracy: 0.6039 - val_loss: 1.0875 - val_accuracy: 0.5890\n",
            "\n",
            "Epoch 00009: val_loss improved from 1.10674 to 1.08747, saving model to best_cnn_model.h5\n",
            "Epoch 10/20\n",
            "449/449 [==============================] - 28s 63ms/step - loss: 1.0046 - accuracy: 0.6298 - val_loss: 1.0839 - val_accuracy: 0.5904\n",
            "\n",
            "Epoch 00010: val_loss improved from 1.08747 to 1.08392, saving model to best_cnn_model.h5\n",
            "Epoch 11/20\n",
            "449/449 [==============================] - 28s 63ms/step - loss: 0.9806 - accuracy: 0.6322 - val_loss: 1.0651 - val_accuracy: 0.6004\n",
            "\n",
            "Epoch 00011: val_loss improved from 1.08392 to 1.06511, saving model to best_cnn_model.h5\n",
            "Epoch 12/20\n",
            "449/449 [==============================] - 28s 63ms/step - loss: 0.9468 - accuracy: 0.6525 - val_loss: 1.0839 - val_accuracy: 0.5954\n",
            "\n",
            "Epoch 00012: val_loss did not improve from 1.06511\n",
            "Epoch 13/20\n",
            "449/449 [==============================] - 28s 63ms/step - loss: 0.9345 - accuracy: 0.6540 - val_loss: 1.0466 - val_accuracy: 0.6077\n",
            "\n",
            "Epoch 00013: val_loss improved from 1.06511 to 1.04662, saving model to best_cnn_model.h5\n",
            "Epoch 14/20\n",
            "449/449 [==============================] - 28s 63ms/step - loss: 0.8946 - accuracy: 0.6690 - val_loss: 1.0718 - val_accuracy: 0.6035\n",
            "\n",
            "Epoch 00014: val_loss did not improve from 1.04662\n",
            "Epoch 15/20\n",
            "449/449 [==============================] - 28s 63ms/step - loss: 0.8511 - accuracy: 0.6848 - val_loss: 1.0764 - val_accuracy: 0.6066\n",
            "\n",
            "Epoch 00015: val_loss did not improve from 1.04662\n",
            "Epoch 16/20\n",
            "449/449 [==============================] - 28s 63ms/step - loss: 0.8262 - accuracy: 0.6989 - val_loss: 1.0786 - val_accuracy: 0.6010\n",
            "\n",
            "Epoch 00016: val_loss did not improve from 1.04662\n",
            "Epoch 17/20\n",
            "449/449 [==============================] - 28s 63ms/step - loss: 0.8085 - accuracy: 0.7047 - val_loss: 1.0735 - val_accuracy: 0.6152\n",
            "\n",
            "Epoch 00017: val_loss did not improve from 1.04662\n",
            "Epoch 18/20\n",
            "449/449 [==============================] - 28s 63ms/step - loss: 0.7610 - accuracy: 0.7244 - val_loss: 1.1339 - val_accuracy: 0.6088\n",
            "\n",
            "Epoch 00018: val_loss did not improve from 1.04662\n",
            "Epoch 19/20\n",
            "449/449 [==============================] - 28s 63ms/step - loss: 0.7215 - accuracy: 0.7400 - val_loss: 1.0449 - val_accuracy: 0.6275\n",
            "\n",
            "Epoch 00019: val_loss improved from 1.04662 to 1.04486, saving model to best_cnn_model.h5\n",
            "Epoch 20/20\n",
            "449/449 [==============================] - 28s 63ms/step - loss: 0.6888 - accuracy: 0.7526 - val_loss: 1.0951 - val_accuracy: 0.6280\n",
            "\n",
            "Epoch 00020: val_loss did not improve from 1.04486\n"
          ],
          "name": "stdout"
        }
      ]
    },
    {
      "cell_type": "markdown",
      "metadata": {
        "id": "imx9Oi72yqSr"
      },
      "source": [
        "The model improved consistently for 10 epochs, with some small improvements for the next ten."
      ]
    },
    {
      "cell_type": "markdown",
      "metadata": {
        "id": "ivCLMamPsuUt"
      },
      "source": [
        "## Exploring the results\n"
      ]
    },
    {
      "cell_type": "code",
      "metadata": {
        "id": "BAMVrVxzs0Eo"
      },
      "source": [
        "# code stolen from insprit ai notebook\n",
        "from sklearn.metrics import confusion_matrix\n",
        "import seaborn as sns\n",
        "\n",
        "def plot_confusion_matrix(y_true, y_predicted):\n",
        "  '''\n",
        "  Plots the confusion Matrix\n",
        "    input: true y values and predicted y values (one hot encoded)\n",
        "    output: confusion\n",
        "  '''\n",
        "  cm = confusion_matrix(y_true, y_predicted)\n",
        "  labels = list(emotion_labels.values())\n",
        "  df_cm = pd.DataFrame(cm,index = labels,columns = labels)\n",
        "  fig = plt.figure()\n",
        "  res = sns.heatmap(df_cm, annot=True,cmap='Blues', fmt='g')\n",
        "  plt.title('Confusion Matrix - TestData')\n",
        "  plt.ylabel('True label')\n",
        "  plt.xlabel('Predicted label')\n",
        " \n",
        "  plt.show()\n",
        "  plt.close()\n",
        "\n",
        "def plot_graphs(history):\n",
        "  '''\n",
        "  Plots the graph of training vs validation accuracy in loss over training\n",
        "  epochs\n",
        "    input: training history\n",
        "    output: graph of training vs validation accuracy over training epochs\n",
        "            graph of training vs validation loss over training epochs\n",
        "  '''\n",
        "  plt.figure(figsize=[10,4])\n",
        "  # summarize history for accuracy\n",
        "  plt.subplot(121)\n",
        "  plt.plot(history.history['accuracy'])\n",
        "  plt.plot(history.history['val_accuracy'])\n",
        "  plt.ylabel('accuracy')\n",
        "  plt.xlabel('epoch')\n",
        "  plt.legend(['train', 'test'], loc='upper left')\n",
        "  \n",
        "  # summarize history for loss\n",
        "  plt.subplot(122)\n",
        "  plt.plot(history.history['loss'])\n",
        "  plt.plot(history.history['val_loss'])\n",
        "  plt.ylabel('loss')\n",
        "  plt.xlabel('epoch')\n",
        "  plt.legend(['train', 'test'], loc='upper left')\n",
        "  plt.show()"
      ],
      "execution_count": 32,
      "outputs": []
    },
    {
      "cell_type": "code",
      "metadata": {
        "colab": {
          "base_uri": "https://localhost:8080/"
        },
        "id": "ySRxwZYTtBKC",
        "outputId": "6880071f-5bc0-46af-840e-f90ccb77a2bb"
      },
      "source": [
        "vgg_performance = vgg_model.evaluate(X_test, y_test, batch_size=batch_size)"
      ],
      "execution_count": 33,
      "outputs": [
        {
          "output_type": "stream",
          "text": [
            "57/57 [==============================] - 1s 18ms/step - loss: 1.1019 - accuracy: 0.6392\n"
          ],
          "name": "stdout"
        }
      ]
    },
    {
      "cell_type": "code",
      "metadata": {
        "colab": {
          "base_uri": "https://localhost:8080/"
        },
        "id": "NP4k6-TeyRCx",
        "outputId": "95a51921-0f88-4268-c772-3f5b37ef54e2"
      },
      "source": [
        "print('Test Loss:', vgg_performance[0])\n",
        "print('Test Accuracy:', vgg_performance[1])"
      ],
      "execution_count": 34,
      "outputs": [
        {
          "output_type": "stream",
          "text": [
            "Test Loss 1.1019232273101807\n",
            "Test Accuracy 0.6391752362251282\n"
          ],
          "name": "stdout"
        }
      ]
    },
    {
      "cell_type": "code",
      "metadata": {
        "colab": {
          "base_uri": "https://localhost:8080/",
          "height": 279
        },
        "id": "rnWllY6ltfK1",
        "outputId": "435043d4-7c6c-40c5-8c8d-b778a084fee1"
      },
      "source": [
        "plot_graphs(vgg_history)"
      ],
      "execution_count": 35,
      "outputs": [
        {
          "output_type": "display_data",
          "data": {
            "image/png": "[encoded data removed]",
            "text/plain": [
              "<Figure size 720x288 with 2 Axes>"
            ]
          },
          "metadata": {
            "tags": [],
            "needs_background": "light"
          }
        }
      ]
    },
    {
      "cell_type": "markdown",
      "metadata": {
        "id": "53ZphhJIvxS-"
      },
      "source": [
        "What can you take away from this confusion matrix?"
      ]
    },
    {
      "cell_type": "code",
      "metadata": {
        "colab": {
          "base_uri": "https://localhost:8080/",
          "height": 327
        },
        "id": "RzJax-hrt0ja",
        "outputId": "95c1206e-45a4-49de-bde3-03b9b50dc129"
      },
      "source": [
        "y_pred = np.argmax(vgg_model.predict(X_test), axis=1)\n",
        "y_true = np.argmax(y_test, axis=1)\n",
        "plot_confusion_matrix(y_pred, y_true)"
      ],
      "execution_count": 36,
      "outputs": [
        {
          "output_type": "display_data",
          "data": {
            "image/png": "[encoded data removed]",
            "text/plain": [
              "<Figure size 432x288 with 2 Axes>"
            ]
          },
          "metadata": {
            "tags": [],
            "needs_background": "light"
          }
        }
      ]
    },
    {
      "cell_type": "markdown",
      "metadata": {
        "id": "icSlPY4wv25t"
      },
      "source": [
        "One interesting thing to note is our unbalanced dataset. For example, no disguist images showed up in our test data. Additionally, some of the false predictions may come from more ambiguous images (I believe the human accuracy is only around 65 %)."
      ]
    },
    {
      "cell_type": "markdown",
      "metadata": {
        "id": "OiAQT5kDy3lk"
      },
      "source": [
        "## Up Next"
      ]
    },
    {
      "cell_type": "markdown",
      "metadata": {
        "id": "XPim5NtGy5TG"
      },
      "source": [
        "I definetly learned a lot through this. With the inspirit notebooks I learned more about emotion recognition and got additional practice creating a model. Here I did the same stuff (although I borrowed some functions) and went through the model creation process largely from beginning to end. I loaded the data from Kaggle and explored it and how it is represented. I preprocessed the data to get the data to be able to run through the vgg model. I had to go from pixels that was a string of 2304 space seperated numbers to a 48 * 48 * 3 dimensional representaion. I then trained a transfer learning model and examined the performance."
      ]
    },
    {
      "cell_type": "markdown",
      "metadata": {
        "id": "y0mFj6V7ztWQ"
      },
      "source": [
        "In doing all of this, I was able to get a better feel of the machine learning pipeline and how to go through it. I got some more experience with the representation and manipulating stuff in pandas and numpy. I should work on this more and be able to write the functions that I stole from scratch. Additionally, I got more practice working with data and interpreting results."
      ]
    },
    {
      "cell_type": "markdown",
      "metadata": {
        "id": "ES37sgqh0bHf"
      },
      "source": [
        "Now I will figure out how to run this model on any image and eventually turn it into a website\n",
        "* Get a way to turn any image into a shape that can go through this model (48 * 48 * 3 pixels)\n",
        "* Add to this notebook (or possibly a new one) with a section to do that.\n",
        "* Learn how to use the model I already trained in another place (ex another notebook, Pycharm)\n",
        "* Put together a website that can do this from a user submitted image. I would need to figure out how to get images from a user and run them through the model.\n",
        "* Possibly extend this website with more features and cool ways to display image"
      ]
    }
  ]
}